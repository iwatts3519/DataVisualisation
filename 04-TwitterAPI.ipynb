{
 "cells": [
  {
   "cell_type": "code",
   "execution_count": 1,
   "id": "generous-prerequisite",
   "metadata": {},
   "outputs": [],
   "source": [
    "import os\n",
    "import tweepy as tw\n",
    "import pandas as pd"
   ]
  },
  {
   "cell_type": "code",
   "execution_count": 2,
   "id": "thermal-train",
   "metadata": {},
   "outputs": [],
   "source": [
    "consumer_key=\"\"\n",
    "consumer_secret=\"\"\n",
    "access_token=\"\"\n",
    "access_token_secret=\"\""
   ]
  },
  {
   "cell_type": "code",
   "execution_count": 3,
   "id": "optimum-pakistan",
   "metadata": {},
   "outputs": [],
   "source": [
    "auth = tw.OAuthHandler(consumer_key, consumer_secret)\n",
    "auth.set_access_token(access_token, access_token_secret)\n",
    "api = tw.API(auth, wait_on_rate_limit=True)"
   ]
  },
  {
   "cell_type": "code",
   "execution_count": 14,
   "id": "traditional-leisure",
   "metadata": {},
   "outputs": [],
   "source": [
    "search=\"#WOT\"\n",
    "date_since=\"2020-09-01\"\n",
    "tweets = tw.Cursor(api.search, q=search, lang=\"en\", since_id=date_since).items(10)"
   ]
  },
  {
   "cell_type": "code",
   "execution_count": 15,
   "id": "advanced-lightweight",
   "metadata": {},
   "outputs": [
    {
     "name": "stdout",
     "output_type": "stream",
     "text": [
      "<tweepy.cursor.ItemIterator object at 0x000002C57C080E80>\n"
     ]
    }
   ],
   "source": [
    "print(tweets)"
   ]
  },
  {
   "cell_type": "code",
   "execution_count": 6,
   "id": "creative-eleven",
   "metadata": {},
   "outputs": [
    {
     "name": "stdout",
     "output_type": "stream",
     "text": [
      "RT @BritishComedy: Congratulations to @MrMichaelSpicer. Our visitors have voted his Radio 4 show 'Michael Spicer: Before Next Door' as the…\n",
      "For every eight workers employed in academe last February, at least one had lost or left that job 10 months later. https://t.co/dgCnG2GcvO\n",
      "It's not too late to secure your place at tomorrow's 'Discover apprenticeships' live exhibition. \n",
      "\n",
      "Attend live sess… https://t.co/S0eSenelyt\n",
      "🇸🇪 \"Lär oss att be\" är en enkel guide för vanligt folk, en bok om bön som passar alla! Kolla även in de fria online… https://t.co/fzT4CeZiIS\n",
      "Despite record totals in the Ivies and other competitive colleges, application numbers are dropping at most institu… https://t.co/GBRwzpMpCE\n",
      "5 apprentices, 5 unique stories.\n",
      "\n",
      "The first of our #NAW2021 daily inspiration series is available for you to watch.… https://t.co/HP3xTEg5rm\n",
      "RT @sarakcuster: The educational circumstances imposed by Covid-19 offer the possibility not of returning to life as “normal” but of remaki…\n",
      "RT @jgro_the: “Dr Karikó provided superb science.... But she was not the skilled salesman needed to promote the science'. Great piece from…\n",
      "RT @PaulJump: \"I noticed that Lauren had sent me a comment via Zoom’s chat function. She apologised for not responding to my question and e…\n",
      "RT @MatthewReiszTHE: Stephen Gaukroger's @Sydney_Uni powerful new book @PrincetonUPress challenges many assumptions about the successes of…\n",
      "RT @Insendi_online: @timeshighered suggesting it is time for universities to begin investing in digital campuses to match the standards of…\n",
      "RT @georgierreads: UK DRAGONSWORN 🐉 we want to hear from you!!!! @tylinstoy\n",
      "Dennis DePerro is a well-liked president who led the university through a tough in-person semester. Then he got Cov… https://t.co/S6yjRvVmYu\n",
      "2/2 If this is you, please DM me with your general location in the U.K - I won’t share this with anyone, but it wil… https://t.co/vMRYORnj5k\n",
      "Looking forward to a less chaotic time, I want to try and organise a full on geek out session for all the U.K. #TwitterOfTime people. 1/X\n",
      "RT @KatieHeigl: I’m not gonna lie...this feels really really good!! Thank you to all those who watched!! You’ve made our #fireflylane dream…\n",
      "@rogueAelfinn I say this to my amazing self every morning.\n",
      "Ithaca wants to cut 116 full-time positions from its non-tenure-track faculty ranks, but alumni, students and profe… https://t.co/uQVyU27pme\n",
      "Sexual assault “built into design of university environment”: universities should urge their students to behave bet… https://t.co/HSQ1r2Pem2\n",
      "RT @JoelleKhalife: I’m quite behind in my @nomadpodcast listening but THIS is a brilliant discussion about #ToxicMasculinity - everyone nee…\n"
     ]
    }
   ],
   "source": [
    "public_tweets = api.home_timeline()\n",
    "for tweet in public_tweets:\n",
    "    print(tweet.text)"
   ]
  },
  {
   "cell_type": "code",
   "execution_count": 16,
   "id": "answering-swift",
   "metadata": {},
   "outputs": [
    {
     "name": "stdout",
     "output_type": "stream",
     "text": [
      "I can already tell you that the whole Tuon and her imperialist nature + passionate support of slavery isn’t going t… https://t.co/ofOY8OR5t5\n",
      "EMIL I - GAMES TO 2ND MARK OF EXCELLENCE - EMIL I GAMEPLAY https://t.co/OCGEAGGHkk \n",
      "\n",
      "#tank #tanks #wargaming #wot… https://t.co/yjuE2UvbYQ\n",
      "STA-1 90% TO 93.07% | MARK OF EXCELLENCE | MARKING STA-1 https://t.co/9s5VcrA5fU \n",
      "\n",
      "#tank #tanks #wargaming #wot… https://t.co/AHtpKF0Y1h\n",
      "Kranvagn - THE GAME SAVIOR - World of Tanks #worldoftanks #wot #game #games\n",
      "\n",
      "https://t.co/KWsBjQZu3j https://t.co/dBGdkTtppY\n",
      "RT @Paracast_: COME CHILL WITH A BEAR LIVE https://t.co/RdVDbRh1s7\n",
      "#twitch #twitchtv #wot #worldoftanks #rdr2 #gaming #Livestream\n",
      "RT @Paracast_: COME CHILL WITH A BEAR LIVE https://t.co/RdVDbRh1s7\n",
      "#twitch #twitchtv #wot #worldoftanks #rdr2 #gaming #Livestream\n",
      "RT @Paracast_: COME CHILL WITH A BEAR LIVE https://t.co/RdVDbRh1s7\n",
      "#twitch #twitchtv #wot #worldoftanks #rdr2 #gaming #Livestream\n",
      "RT @HeyJessyPants: I'm getting ready to launch a new show, and I just got logo concept sketches from @robchristianson. Y'all, I'm so excite…\n",
      "My dream Porcshe.\n",
      "#WoT https://t.co/OG8ThqrSze\n",
      "So no #WOTonPrime trailer @Amazon @PrimeVideo? #TwitterOfTime #WOT https://t.co/nclkcIjE97\n"
     ]
    }
   ],
   "source": [
    "for tweet in tweets:\n",
    "    print(tweet.text)"
   ]
  },
  {
   "cell_type": "code",
   "execution_count": null,
   "id": "impossible-proposition",
   "metadata": {},
   "outputs": [],
   "source": []
  }
 ],
 "metadata": {
  "kernelspec": {
   "display_name": "Python 3",
   "language": "python",
   "name": "python3"
  },
  "language_info": {
   "codemirror_mode": {
    "name": "ipython",
    "version": 3
   },
   "file_extension": ".py",
   "mimetype": "text/x-python",
   "name": "python",
   "nbconvert_exporter": "python",
   "pygments_lexer": "ipython3",
   "version": "3.8.5"
  }
 },
 "nbformat": 4,
 "nbformat_minor": 5
}
