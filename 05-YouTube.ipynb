{
 "cells": [
  {
   "cell_type": "code",
   "execution_count": 1,
   "id": "charming-missile",
   "metadata": {},
   "outputs": [],
   "source": [
    "from youtube_easy_api.easy_wrapper import *"
   ]
  },
  {
   "cell_type": "code",
   "execution_count": 2,
   "id": "responsible-jenny",
   "metadata": {},
   "outputs": [],
   "source": [
    "api_key = \"\""
   ]
  },
  {
   "cell_type": "code",
   "execution_count": 3,
   "id": "negative-house",
   "metadata": {},
   "outputs": [],
   "source": [
    "easy_wrapper = YoutubeEasyWrapper()\n",
    "easy_wrapper.initialize(api_key=api_key)"
   ]
  },
  {
   "cell_type": "code",
   "execution_count": 5,
   "id": "tropical-grade",
   "metadata": {},
   "outputs": [],
   "source": [
    "results = easy_wrapper.search_videos(search_keyword='python', order='relevance')"
   ]
  },
  {
   "cell_type": "code",
   "execution_count": 6,
   "id": "strange-examination",
   "metadata": {},
   "outputs": [
    {
     "name": "stdout",
     "output_type": "stream",
     "text": [
      "[{'title': 'Learn Python - Full Course for Beginners [Tutorial]', 'channel': 'freeCodeCamp.org', 'video_id': 'rfscVS0vtbw'}, {'title': 'Python Tutorial - Python for Beginners [Full Course]', 'channel': 'Programming with Mosh', 'video_id': '_uQrJ0TkZlc'}, {'title': 'Python Tutorial - Python for Beginners [2020]', 'channel': 'Programming with Mosh', 'video_id': 'kqtD5dpn9C8'}, {'title': 'Intensivão de Python [Aula 1]', 'channel': 'Hashtag Programação', 'video_id': '20a-LWz95rw'}, {'title': 'Python and Machine Learning Bootcamp: Important Python Concepts', 'channel': 'Shape AI', 'video_id': 'AtnffmHxR3k'}, {'title': 'Why You Shouldn’t Learn Python In 2021', 'channel': 'Devslopes', 'video_id': 'sO1ctUNQ1k8'}, {'title': 'What Can You Do with Python? - The 3 Main Applications', 'channel': 'CS Dojo', 'video_id': 'kLZuut1fYzQ'}, {'title': 'How To Master Python', 'channel': 'Kalle Hallden', 'video_id': 'IUZTbEaDo0U'}, {'title': 'Python Tutorial for Absolute Beginners #1 - What Are Variables?', 'channel': 'CS Dojo', 'video_id': 'Z1Yd7upQsXY'}, {'title': 'What is Python? Why Python is So Popular?', 'channel': 'Programming with Mosh', 'video_id': 'Y8Tko2YC5hA'}, {'title': 'Учим Python за 1 час! #От Профессионала', 'channel': 'Хауди Хо™ - Просто о мире IT!', 'video_id': 'fp5-XQFr_nk'}, {'title': 'Minecraft Building Let&#39;s Play Episode 1 | LET&#39;S BEGIN!', 'channel': 'PythonMC', 'video_id': 'h-J0RaaNNk8'}, {'title': 'Python for Everybody - Full University Python Course', 'channel': 'freeCodeCamp.org', 'video_id': '8DvywoWv6fI'}, {'title': 'Minecraft Survival | Journey Begins! (Let&#39;s Play Episode 1)', 'channel': 'PythonMC', 'video_id': 'sC_Pr0kuqJA'}, {'title': 'Intermediate Python Programming Course', 'channel': 'freeCodeCamp.org', 'video_id': 'HGOBQPFzWKo'}]\n"
     ]
    }
   ],
   "source": [
    "print(results)\n",
    "    "
   ]
  },
  {
   "cell_type": "code",
   "execution_count": 8,
   "id": "special-jersey",
   "metadata": {},
   "outputs": [
    {
     "name": "stdout",
     "output_type": "stream",
     "text": [
      "Learn Python - Full Course for Beginners [Tutorial] rfscVS0vtbw\n",
      "Python Tutorial - Python for Beginners [Full Course] _uQrJ0TkZlc\n",
      "Python Tutorial - Python for Beginners [2020] kqtD5dpn9C8\n",
      "Intensivão de Python [Aula 1] 20a-LWz95rw\n",
      "Python and Machine Learning Bootcamp: Important Python Concepts AtnffmHxR3k\n",
      "Why You Shouldn’t Learn Python In 2021 sO1ctUNQ1k8\n",
      "What Can You Do with Python? - The 3 Main Applications kLZuut1fYzQ\n",
      "How To Master Python IUZTbEaDo0U\n",
      "Python Tutorial for Absolute Beginners #1 - What Are Variables? Z1Yd7upQsXY\n",
      "What is Python? Why Python is So Popular? Y8Tko2YC5hA\n",
      "Учим Python за 1 час! #От Профессионала fp5-XQFr_nk\n",
      "Minecraft Building Let&#39;s Play Episode 1 | LET&#39;S BEGIN! h-J0RaaNNk8\n",
      "Python for Everybody - Full University Python Course 8DvywoWv6fI\n",
      "Minecraft Survival | Journey Begins! (Let&#39;s Play Episode 1) sC_Pr0kuqJA\n",
      "Intermediate Python Programming Course HGOBQPFzWKo\n"
     ]
    }
   ],
   "source": [
    "for video in results:\n",
    "    print(video[\"title\"], video[\"video_id\"])"
   ]
  },
  {
   "cell_type": "code",
   "execution_count": null,
   "id": "proper-story",
   "metadata": {},
   "outputs": [],
   "source": []
  }
 ],
 "metadata": {
  "kernelspec": {
   "display_name": "Python 3",
   "language": "python",
   "name": "python3"
  },
  "language_info": {
   "codemirror_mode": {
    "name": "ipython",
    "version": 3
   },
   "file_extension": ".py",
   "mimetype": "text/x-python",
   "name": "python",
   "nbconvert_exporter": "python",
   "pygments_lexer": "ipython3",
   "version": "3.8.5"
  }
 },
 "nbformat": 4,
 "nbformat_minor": 5
}
